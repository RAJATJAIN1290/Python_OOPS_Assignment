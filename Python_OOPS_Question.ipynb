{
 "cells": [
  {
   "cell_type": "markdown",
   "id": "3d98340a",
   "metadata": {},
   "source": [
    "# Theory Question"
   ]
  },
  {
   "cell_type": "code",
   "execution_count": null,
   "id": "6704c385",
   "metadata": {},
   "outputs": [],
   "source": [
    "# Python OOPs Questions and Answers\n",
    "\n",
    "---\n",
    "\n",
    "### What is Object-Oriented Programming (OOP)?\n",
    "OOP is a programming paradigm based on the concept of objects, which can contain data and methods. It promotes code reuse, modularity, and abstraction.\n",
    "\n",
    "---\n",
    "\n",
    "### What is a class in OOP?\n",
    "A class is a blueprint for creating objects. It defines attributes and methods that the created objects will have.\n",
    "\n",
    "---\n",
    "\n",
    "### What is an object in OOP?\n",
    "An object is an instance of a class. It represents a real-world entity with state (attributes) and behavior (methods).\n",
    "\n",
    "---\n",
    "\n",
    "### What is the difference between abstraction and encapsulation?\n",
    "- Abstraction- hides implementation details and shows only essential features to the user.\n",
    "- Encapsulation- hides the internal state of an object using access modifiers and restricts direct access to some components.\n",
    "\n",
    "---\n",
    "\n",
    "### What are dunder methods in Python?\n",
    "Dunder (double underscore) methods like `__init__`, `__str__`, `__len__`, and `__repr__` allow objects to interact with Python’s built-in functions and operators in custom ways.\n",
    "\n",
    "---\n",
    "\n",
    "### Explain the concept of inheritance in OOP\n",
    "Inheritance allows a class (child) to inherit attributes and methods from another class (parent). It helps in reusability and establishing a hierarchical classification.\n",
    "\n",
    "---\n",
    "\n",
    "### What is polymorphism in OOP?\n",
    "Polymorphism allows objects of different classes to be treated as objects of a common superclass. It enables the same method to behave differently based on the object.\n",
    "\n",
    "---\n",
    "\n",
    "### How is encapsulation achieved in Python?\n",
    "Encapsulation is achieved by:\n",
    "- Using single `_` or double `__` underscore to make variables/methods private or protected.\n",
    "- Providing getter and setter methods to access/modify private variables.\n",
    "\n",
    "---\n",
    "\n",
    "### What is a constructor in Python?\n",
    "A constructor is a special method named `__init__` that is called when an object is instantiated. It initializes the object's attributes.\n",
    "\n",
    "---\n",
    "\n",
    "### What are class and static methods in Python?\n",
    "- `@classmethod`: Takes `cls` as the first parameter and can modify class state.\n",
    "- `@staticmethod`: Does not take `self` or `cls`; behaves like a regular function inside a class.\n",
    "\n",
    "---\n",
    "\n",
    "### What is method overloading in Python?\n",
    "Python doesn't support traditional method overloading. Instead, it uses default arguments or `*args`, `**kwargs` to achieve similar functionality.\n",
    "\n",
    "---\n",
    "\n",
    "### What is method overriding in OOP?\n",
    "Method overriding allows a subclass to provide a specific implementation of a method already defined in its superclass.\n",
    "\n",
    "---\n",
    "\n",
    "### What is a property decorator in Python?\n",
    "The `@property` decorator turns a method into a getter, allowing you to access it like an attribute. Useful for computed properties.\n",
    "\n",
    "---\n",
    "\n",
    "### Why is polymorphism important in OOP?\n",
    "It enhances flexibility and maintainability by allowing one interface to represent different underlying forms (data types).\n",
    "\n",
    "---\n",
    "\n",
    "### What is an abstract class in Python?\n",
    "An abstract class cannot be instantiated. It can define abstract methods that must be implemented in derived classes. Use `abc.ABC` and `@abstractmethod`.\n",
    "\n",
    "---\n",
    "\n",
    "### What are the advantages of OOP?\n",
    "- Code reusability through inheritance\n",
    "- Encapsulation for data protection\n",
    "- Abstraction to hide complexity\n",
    "- Polymorphism for flexibility\n",
    "\n",
    "---\n",
    "\n",
    "### What is the difference between a class variable and an instance variable?\n",
    "- **Class variable**: Shared by all instances of a class.\n",
    "- **Instance variable**: Unique to each instance.\n",
    "\n",
    "---\n",
    "\n",
    "### What is multiple inheritance in Python?\n",
    "A class can inherit from more than one parent class. Python uses the MRO (Method Resolution Order) to resolve conflicts.\n",
    "\n",
    "---\n",
    "\n",
    "### Explain the purpose of `__str__` and `__repr__` methods in Python\n",
    "- `__str__`: Returns a readable string representation (used by `print()`).\n",
    "- `__repr__`: Returns an official string representation (used in debugging).\n",
    "\n",
    "---\n",
    "\n",
    "### What is the significance of the `super()` function in Python?\n",
    "`super()` is used to call a method from the parent class. Commonly used in constructors to ensure parent initialization.\n",
    "\n",
    "---\n",
    "\n",
    "### What is the significance of the `__del__` method in Python?\n",
    "The `__del__` method is a destructor that is called when an object is about to be destroyed, typically for cleanup.\n",
    "\n",
    "---\n",
    "\n",
    "### What is the difference between @staticmethod and @classmethod in Python?\n",
    "- `@staticmethod`: No access to class or instance; used for utility functions.\n",
    "- `@classmethod`: Has access to the class (`cls`) and can modify class state.\n",
    "\n",
    "---\n",
    "\n",
    "### How does polymorphism work in Python with inheritance?\n",
    "Python uses dynamic method resolution. If a subclass overrides a method from a parent, the subclass version is called when the method is invoked.\n",
    "\n",
    "---\n",
    "\n",
    "### What is method chaining in Python OOP?\n",
    "Method chaining returns `self` from each method so multiple methods can be called on the same object in one line.\n",
    "\n",
    "python\n",
    "obj.set_name(\"John\").set_age(30).save()\n"
   ]
  },
  {
   "cell_type": "markdown",
   "id": "71b78bca",
   "metadata": {},
   "source": [
    "# Practical Question"
   ]
  },
  {
   "cell_type": "code",
   "execution_count": 2,
   "id": "61a5ead4",
   "metadata": {},
   "outputs": [
    {
     "name": "stdout",
     "output_type": "stream",
     "text": [
      "This is an animal\n",
      "Bark!\n"
     ]
    }
   ],
   "source": [
    "# 1. Create a parent class Animal with a method speak() that prints a generic message. Create a child class Dog that overrides the speak() method to print \"Bark!\".\n",
    "class Animal:\n",
    "    def speak(self):\n",
    "        print(\"This is an animal\")\n",
    "\n",
    "class Dog(Animal):\n",
    "    def speak(self):\n",
    "        print(\"Bark!\")\n",
    "\n",
    "animal = Animal()\n",
    "animal.speak()\n",
    "dog = Dog()\n",
    "dog.speak()"
   ]
  },
  {
   "cell_type": "code",
   "execution_count": 3,
   "id": "4f978965",
   "metadata": {},
   "outputs": [
    {
     "name": "stdout",
     "output_type": "stream",
     "text": [
      "78.53981633974483\n",
      "24\n"
     ]
    }
   ],
   "source": [
    "# 2. Write a program to create an abstract class Shape with a method area(). Derive classes Circle and Rectangle from it and implement the area() method in both.\n",
    "from abc import ABC, abstractmethod\n",
    "import math\n",
    "\n",
    "class Shape(ABC):\n",
    "    @abstractmethod\n",
    "    def area(self):\n",
    "        pass\n",
    "\n",
    "class Circle(Shape):\n",
    "    def __init__(self, radius):\n",
    "        self.radius = radius\n",
    "\n",
    "    def area(self):\n",
    "        return math.pi * self.radius ** 2\n",
    "\n",
    "class Rectangle(Shape):\n",
    "    def __init__(self, width, height):\n",
    "        self.width = width\n",
    "        self.height = height\n",
    "\n",
    "    def area(self):\n",
    "        return self.width * self.height\n",
    "\n",
    "circle = Circle(5)\n",
    "print(circle.area())\n",
    "rectangle = Rectangle(4, 6)\n",
    "print(rectangle.area())"
   ]
  },
  {
   "cell_type": "code",
   "execution_count": 5,
   "id": "b2b67872",
   "metadata": {},
   "outputs": [
    {
     "name": "stdout",
     "output_type": "stream",
     "text": [
      "Electric Tesla 85 kWh\n"
     ]
    }
   ],
   "source": [
    "# 3. Implement a multi-level inheritance scenario where a class Vehicle has an attribute type. Derive a class Car and further derive a class ElectricCar that adds a battery attribute.\n",
    "class Vehicle:\n",
    "    def __init__(self, type):\n",
    "        self.type = type\n",
    "\n",
    "class Car(Vehicle):\n",
    "    def __init__(self, type, brand):\n",
    "        super().__init__(type)\n",
    "        self.brand = brand\n",
    "\n",
    "class ElectricCar(Car):\n",
    "    def __init__(self, type, brand, battery):\n",
    "        super().__init__(type, brand)\n",
    "        self.battery = battery\n",
    "\n",
    "ecar = ElectricCar(\"Electric\", \"Tesla\", \"85 kWh\")\n",
    "print(ecar.type, ecar.brand, ecar.battery)"
   ]
  },
  {
   "cell_type": "code",
   "execution_count": 6,
   "id": "85335bf2",
   "metadata": {},
   "outputs": [
    {
     "name": "stdout",
     "output_type": "stream",
     "text": [
      "Sparrow flies high\n",
      "Penguins can't fly\n"
     ]
    }
   ],
   "source": [
    "# 4. Demonstrate polymorphism by creating a base class Bird with a method fly(). Create two derived classes Sparrow and Penguin that override the fly() method.\n",
    "class Bird:\n",
    "    def fly(self):\n",
    "        print(\"Bird is flying\")\n",
    "\n",
    "class Sparrow(Bird):\n",
    "    def fly(self):\n",
    "        print(\"Sparrow flies high\")\n",
    "\n",
    "class Penguin(Bird):\n",
    "    def fly(self):\n",
    "        print(\"Penguins can't fly\")\n",
    "\n",
    "birds = [Sparrow(), Penguin()]\n",
    "for bird in birds:\n",
    "    bird.fly()"
   ]
  },
  {
   "cell_type": "code",
   "execution_count": 7,
   "id": "fde53b7c",
   "metadata": {},
   "outputs": [
    {
     "name": "stdout",
     "output_type": "stream",
     "text": [
      "500\n"
     ]
    }
   ],
   "source": [
    "# 5. Write a program to demonstrate encapsulation by creating a class BankAccount with private attributes balance and methods to deposit, withdraw, and check balance.\n",
    "class BankAccount:\n",
    "    def __init__(self):\n",
    "        self.__balance = 0\n",
    "\n",
    "    def deposit(self, amount):\n",
    "        self.__balance += amount\n",
    "\n",
    "    def withdraw(self, amount):\n",
    "        if amount <= self.__balance:\n",
    "            self.__balance -= amount\n",
    "        else:\n",
    "            print(\"Insufficient balance\")\n",
    "\n",
    "    def check_balance(self):\n",
    "        return self.__balance\n",
    "\n",
    "account = BankAccount()\n",
    "account.deposit(1000)\n",
    "account.withdraw(500)\n",
    "print(account.check_balance())"
   ]
  },
  {
   "cell_type": "code",
   "execution_count": 8,
   "id": "f476745d",
   "metadata": {},
   "outputs": [
    {
     "name": "stdout",
     "output_type": "stream",
     "text": [
      "Playing guitar\n",
      "Playing piano\n"
     ]
    }
   ],
   "source": [
    "# 6. Demonstrate runtime polymorphism using a method play() in a base class Instrument. Derive classes Guitar and Piano that implement their own version of play().\n",
    "class Instrument:\n",
    "    def play(self):\n",
    "        print(\"Playing instrument\")\n",
    "\n",
    "class Guitar(Instrument):\n",
    "    def play(self):\n",
    "        print(\"Playing guitar\")\n",
    "\n",
    "class Piano(Instrument):\n",
    "    def play(self):\n",
    "        print(\"Playing piano\")\n",
    "\n",
    "instruments = [Guitar(), Piano()]\n",
    "for instrument in instruments:\n",
    "    instrument.play()"
   ]
  },
  {
   "cell_type": "code",
   "execution_count": 9,
   "id": "c832711a",
   "metadata": {},
   "outputs": [
    {
     "name": "stdout",
     "output_type": "stream",
     "text": [
      "8\n",
      "2\n"
     ]
    }
   ],
   "source": [
    "# 7. Create a class MathOperations with a class method add_numbers() to add two numbers and a static method subtract_numbers() to subtract two numbers.\n",
    "class MathOperations:\n",
    "    @classmethod\n",
    "    def add_numbers(cls, a, b):\n",
    "        return a + b\n",
    "\n",
    "    @staticmethod\n",
    "    def subtract_numbers(a, b):\n",
    "        return a - b\n",
    "\n",
    "print(MathOperations.add_numbers(5, 3))\n",
    "print(MathOperations.subtract_numbers(5, 3))"
   ]
  },
  {
   "cell_type": "code",
   "execution_count": 10,
   "id": "dc92d4be",
   "metadata": {},
   "outputs": [
    {
     "name": "stdout",
     "output_type": "stream",
     "text": [
      "2\n"
     ]
    }
   ],
   "source": [
    "# 8. Implement a class PersonCounter with a class method to count the total number of persons created.\n",
    "class PersonCounter:\n",
    "    count = 0\n",
    "\n",
    "    def __init__(self):\n",
    "        PersonCounter.count += 1\n",
    "\n",
    "    @classmethod\n",
    "    def get_count(cls):\n",
    "        return cls.count\n",
    "\n",
    "p1 = PersonCounter()\n",
    "p2 = PersonCounter()\n",
    "print(PersonCounter.get_count())"
   ]
  },
  {
   "cell_type": "code",
   "execution_count": 11,
   "id": "9cad90d8",
   "metadata": {},
   "outputs": [
    {
     "name": "stdout",
     "output_type": "stream",
     "text": [
      "3/4\n"
     ]
    }
   ],
   "source": [
    "# 9. Write a class Fraction with attributes numerator and denominator. Override the str method to display the fraction as \"numerator/denominator\".\n",
    "class Fraction:\n",
    "    def __init__(self, numerator, denominator):\n",
    "        self.numerator = numerator\n",
    "        self.denominator = denominator\n",
    "\n",
    "    def __str__(self):\n",
    "        return f\"{self.numerator}/{self.denominator}\"\n",
    "\n",
    "f = Fraction(3, 4)\n",
    "print(f)"
   ]
  },
  {
   "cell_type": "code",
   "execution_count": 12,
   "id": "f618c9d4",
   "metadata": {},
   "outputs": [
    {
     "name": "stdout",
     "output_type": "stream",
     "text": [
      "Vector(6, 8)\n"
     ]
    }
   ],
   "source": [
    "# 10. Demonstrate operator overloading by creating a class Vector and overriding the add method to add two vectors.\n",
    "class Vector:\n",
    "    def __init__(self, x, y):\n",
    "        self.x = x\n",
    "        self.y = y\n",
    "\n",
    "    def __add__(self, other):\n",
    "        return Vector(self.x + other.x, self.y + other.y)\n",
    "\n",
    "    def __str__(self):\n",
    "        return f\"Vector({self.x}, {self.y})\"\n",
    "\n",
    "v1 = Vector(2, 3)\n",
    "v2 = Vector(4, 5)\n",
    "v3 = v1 + v2\n",
    "print(v3)"
   ]
  },
  {
   "cell_type": "code",
   "execution_count": 13,
   "id": "f70d915c",
   "metadata": {},
   "outputs": [
    {
     "name": "stdout",
     "output_type": "stream",
     "text": [
      "Hello, my name is Rajat and I am 24 years old.\n"
     ]
    }
   ],
   "source": [
    "# 11. Create a class Person with attributes name and age. Add a method greet() that prints \"Hello, my name is {name} and I am {age} years old.\"\n",
    "class Person:\n",
    "    def __init__(self, name, age):\n",
    "        self.name = name\n",
    "        self.age = age\n",
    "\n",
    "    def greet(self):\n",
    "        print(f\"Hello, my name is {self.name} and I am {self.age} years old.\")\n",
    "\n",
    "p = Person(\"Rajat\", 24)\n",
    "p.greet()"
   ]
  },
  {
   "cell_type": "code",
   "execution_count": null,
   "id": "fe6f6316",
   "metadata": {},
   "outputs": [],
   "source": [
    "# 12. Implement a class Student with attributes name and grades. Create a method average_grade() to compute the average of the grades.\n",
    "class Student:\n",
    "    def __init__(self, name, grades):\n",
    "        self.name = name\n",
    "        self.grades = grades\n",
    "\n",
    "    def average_grade(self):\n",
    "        return sum(self.grades) / len(self.grades)\n",
    "\n",
    "s = Student(\"Riya\", [85, 90, 78])\n",
    "print(s.average_grade())"
   ]
  },
  {
   "cell_type": "code",
   "execution_count": 14,
   "id": "0df642c5",
   "metadata": {},
   "outputs": [
    {
     "name": "stdout",
     "output_type": "stream",
     "text": [
      "40\n"
     ]
    }
   ],
   "source": [
    "# 13. Create a class Rectangle with methods set_dimensions() to set the dimensions and area() to calculate the area.\n",
    "class Rectangle:\n",
    "    def set_dimensions(self, width, height):\n",
    "        self.width = width\n",
    "        self.height = height\n",
    "\n",
    "    def area(self):\n",
    "        return self.width * self.height\n",
    "\n",
    "rect = Rectangle()\n",
    "rect.set_dimensions(5, 8)\n",
    "print(rect.area())"
   ]
  },
  {
   "cell_type": "code",
   "execution_count": 15,
   "id": "14c59d8c",
   "metadata": {},
   "outputs": [
    {
     "name": "stdout",
     "output_type": "stream",
     "text": [
      "3000\n"
     ]
    }
   ],
   "source": [
    "\n",
    "# 14. Create a class Employee with a method calculate_salary() that computes the salary based on hours worked and hourly rate. Create a derived class Manager that adds a bonus to the salary.\n",
    "class Employee:\n",
    "    def __init__(self, hours_worked, hourly_rate):\n",
    "        self.hours_worked = hours_worked\n",
    "        self.hourly_rate = hourly_rate\n",
    "\n",
    "    def calculate_salary(self):\n",
    "        return self.hours_worked * self.hourly_rate\n",
    "\n",
    "class Manager(Employee):\n",
    "    def __init__(self, hours_worked, hourly_rate, bonus):\n",
    "        super().__init__(hours_worked, hourly_rate)\n",
    "        self.bonus = bonus\n",
    "\n",
    "    def calculate_salary(self):\n",
    "        return super().calculate_salary() + self.bonus\n",
    "\n",
    "m = Manager(40, 50, 1000)\n",
    "print(m.calculate_salary())"
   ]
  },
  {
   "cell_type": "code",
   "execution_count": 16,
   "id": "cca87a68",
   "metadata": {},
   "outputs": [
    {
     "name": "stdout",
     "output_type": "stream",
     "text": [
      "100\n"
     ]
    }
   ],
   "source": [
    "# 15. Create a class Product with attributes name, price, and quantity. Implement a method total_price() that calculates the total price of the product.\n",
    "class Product:\n",
    "    def __init__(self, name, price, quantity):\n",
    "        self.name = name\n",
    "        self.price = price\n",
    "        self.quantity = quantity\n",
    "\n",
    "    def total_price(self):\n",
    "        return self.price * self.quantity\n",
    "\n",
    "p = Product(\"Notebook\", 20, 5)\n",
    "print(p.total_price())"
   ]
  },
  {
   "cell_type": "code",
   "execution_count": 17,
   "id": "5e775dea",
   "metadata": {},
   "outputs": [
    {
     "name": "stdout",
     "output_type": "stream",
     "text": [
      "Moo\n",
      "Baa\n"
     ]
    }
   ],
   "source": [
    "# 16. Create a class Animal with an abstract method sound(). Create two derived classes Cow and Sheep that implement the sound() method.\n",
    "class AnimalSound(ABC):\n",
    "    @abstractmethod\n",
    "    def sound(self):\n",
    "        pass\n",
    "\n",
    "class Cow(AnimalSound):\n",
    "    def sound(self):\n",
    "        return \"Moo\"\n",
    "\n",
    "class Sheep(AnimalSound):\n",
    "    def sound(self):\n",
    "        return \"Baa\"\n",
    "\n",
    "cow = Cow()\n",
    "sheep = Sheep()\n",
    "print(cow.sound())\n",
    "print(sheep.sound())"
   ]
  },
  {
   "cell_type": "code",
   "execution_count": 18,
   "id": "a7885930",
   "metadata": {},
   "outputs": [
    {
     "name": "stdout",
     "output_type": "stream",
     "text": [
      "1984 by George Orwell, published in 1949\n"
     ]
    }
   ],
   "source": [
    "# 17. Create a class Book with attributes title, author, and year_published. Add a method get_book_info() that returns a formatted string with the book's details.\n",
    "class Book:\n",
    "    def __init__(self, title, author, year_published):\n",
    "        self.title = title\n",
    "        self.author = author\n",
    "        self.year_published = year_published\n",
    "\n",
    "    def get_book_info(self):\n",
    "        return f\"{self.title} by {self.author}, published in {self.year_published}\"\n",
    "\n",
    "book = Book(\"1984\", \"George Orwell\", 1949)\n",
    "print(book.get_book_info())"
   ]
  },
  {
   "cell_type": "code",
   "execution_count": 19,
   "id": "506c4c08",
   "metadata": {},
   "outputs": [
    {
     "name": "stdout",
     "output_type": "stream",
     "text": [
      "123 Rich St 5000000 10\n"
     ]
    }
   ],
   "source": [
    "# 18. Create a class House with attributes address and price. Create a derived class Mansion that adds an attribute number_of_rooms.\n",
    "class House:\n",
    "    def __init__(self, address, price):\n",
    "        self.address = address\n",
    "        self.price = price\n",
    "\n",
    "class Mansion(House):\n",
    "    def __init__(self, address, price, number_of_rooms):\n",
    "        super().__init__(address, price)\n",
    "        self.number_of_rooms = number_of_rooms\n",
    "\n",
    "m = Mansion(\"123 Rich St\", 5000000, 10)\n",
    "print(m.address, m.price, m.number_of_rooms)"
   ]
  },
  {
   "cell_type": "code",
   "execution_count": 20,
   "id": "09ff470a",
   "metadata": {},
   "outputs": [
    {
     "name": "stdout",
     "output_type": "stream",
     "text": [
      "Dell Inspiron - Price: ₹60000\n"
     ]
    }
   ],
   "source": [
    "# 19. Create a class Laptop with attributes brand, model, and price. Add a method get_specs() that returns a formatted string of specifications.\n",
    "class Laptop:\n",
    "    def __init__(self, brand, model, price):\n",
    "        self.brand = brand\n",
    "        self.model = model\n",
    "        self.price = price\n",
    "\n",
    "    def get_specs(self):\n",
    "        return f\"{self.brand} {self.model} - Price: ₹{self.price}\"\n",
    "\n",
    "l = Laptop(\"Dell\", \"Inspiron\", 60000)\n",
    "print(l.get_specs())"
   ]
  },
  {
   "cell_type": "code",
   "execution_count": 21,
   "id": "01a4baf6",
   "metadata": {},
   "outputs": [
    {
     "name": "stdout",
     "output_type": "stream",
     "text": [
      "212.0\n",
      "37.77777777777778\n"
     ]
    }
   ],
   "source": [
    "# 20. Create a class Temperature with methods to convert from Celsius to Fahrenheit and Fahrenheit to Celsius.\n",
    "class Temperature:\n",
    "    def __init__(self, value):\n",
    "        self.value = value\n",
    "\n",
    "    def to_fahrenheit(self):\n",
    "        return (self.value * 9/5) + 32\n",
    "\n",
    "    def to_celsius(self):\n",
    "        return (self.value - 32) * 5/9\n",
    "\n",
    "temp = Temperature(100)\n",
    "print(temp.to_fahrenheit())\n",
    "print(temp.to_celsius())"
   ]
  },
  {
   "cell_type": "code",
   "execution_count": null,
   "id": "ea67e310",
   "metadata": {},
   "outputs": [],
   "source": []
  }
 ],
 "metadata": {
  "kernelspec": {
   "display_name": "Python 3",
   "language": "python",
   "name": "python3"
  },
  "language_info": {
   "codemirror_mode": {
    "name": "ipython",
    "version": 3
   },
   "file_extension": ".py",
   "mimetype": "text/x-python",
   "name": "python",
   "nbconvert_exporter": "python",
   "pygments_lexer": "ipython3",
   "version": "3.7.6"
  }
 },
 "nbformat": 4,
 "nbformat_minor": 5
}
